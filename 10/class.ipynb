{
 "cells": [
  {
   "cell_type": "code",
   "execution_count": null,
   "metadata": {},
   "outputs": [],
   "source": [
    "class Person:\n",
    "    def __init__(self) -> None:\n",
    "        self.name \n",
    "        self.brithyear\n",
    "        self.national_number\n",
    "\n",
    "\n",
    "class Student(Person):\n",
    "    def __init__(self) -> None:\n",
    "        super().__init__()\n",
    "        self.student_number\n",
    "        self.year_of_gradutation\n",
    "\n",
    "class Employer(Person):\n",
    "    def __init__(self) -> None:\n",
    "        super().__init__()\n",
    "        self.employer_number\n",
    "\n",
    "class Teacher(Employer):\n",
    "    def __init__(self) -> None:\n",
    "        super().__init__()\n",
    "        self.degree"
   ]
  },
  {
   "cell_type": "code",
   "execution_count": 48,
   "metadata": {},
   "outputs": [],
   "source": [
    "class Person:\n",
    "    def __init__(self, name, birthyear, nid) -> None:\n",
    "        self.name = name\n",
    "        self.brithyear = birthyear\n",
    "        self.national_number = nid\n",
    "    \n",
    "    def greeting(self):\n",
    "        print(f\"Hello! I'm a person and my name is {self.name}\")\n",
    "    \n",
    "    def return_age(self):\n",
    "        return 2023 - self.brithyear\n",
    "    \n",
    "    def return_details(self, full:bool=False):\n",
    "        if full:\n",
    "            print(f\"{self.name} is {self.return_age()} yo and his national id number is: {self.national_number}\")\n",
    "        else:\n",
    "            print(self.name)"
   ]
  },
  {
   "cell_type": "code",
   "execution_count": 49,
   "metadata": {},
   "outputs": [],
   "source": [
    "person = Person(\"Jimmy\", 1990, 58564)"
   ]
  },
  {
   "cell_type": "code",
   "execution_count": 50,
   "metadata": {},
   "outputs": [
    {
     "name": "stdout",
     "output_type": "stream",
     "text": [
      "Hello! I'm a person and my name is Jimmy\n"
     ]
    }
   ],
   "source": [
    "person.greeting()"
   ]
  },
  {
   "cell_type": "code",
   "execution_count": 52,
   "metadata": {},
   "outputs": [
    {
     "name": "stdout",
     "output_type": "stream",
     "text": [
      "Jimmy is 33 yo and his national id number is: 58564\n"
     ]
    }
   ],
   "source": [
    "person.return_details(True)"
   ]
  },
  {
   "cell_type": "code",
   "execution_count": 75,
   "metadata": {},
   "outputs": [],
   "source": [
    "class Student(Person):\n",
    "    def __init__(self, name: str, student_birthyear:int, nid:int, sid:int) -> None:\n",
    "        super().__init__(name=name.capitalize(), birthyear=student_birthyear, nid=nid)\n",
    "        self.student_id = sid\n",
    "\n",
    "    def greeting(self):\n",
    "        print(f\"Hello! I'm a studnet and my name is {self.name}\")\n",
    "    \n",
    "    def return_details(self, full: bool = True):\n",
    "        return super().return_details(full)"
   ]
  },
  {
   "cell_type": "code",
   "execution_count": 72,
   "metadata": {},
   "outputs": [
    {
     "name": "stdout",
     "output_type": "stream",
     "text": [
      "Hello! I'm a studnet and my name is Jimmy\n"
     ]
    }
   ],
   "source": [
    "student_1 = Student( \"jimmy\", 1990, 58564, 96545646)\n",
    "student_1.greeting()"
   ]
  },
  {
   "cell_type": "code",
   "execution_count": 74,
   "metadata": {},
   "outputs": [
    {
     "name": "stdout",
     "output_type": "stream",
     "text": [
      "Jimmy is 33 yo and his national id number is: 58564\n"
     ]
    }
   ],
   "source": [
    "student_1.return_details()"
   ]
  }
 ],
 "metadata": {
  "kernelspec": {
   "display_name": "Python 3",
   "language": "python",
   "name": "python3"
  },
  "language_info": {
   "codemirror_mode": {
    "name": "ipython",
    "version": 3
   },
   "file_extension": ".py",
   "mimetype": "text/x-python",
   "name": "python",
   "nbconvert_exporter": "python",
   "pygments_lexer": "ipython3",
   "version": "3.11.0"
  },
  "orig_nbformat": 4
 },
 "nbformat": 4,
 "nbformat_minor": 2
}

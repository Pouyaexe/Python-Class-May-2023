{
 "cells": [
  {
   "attachments": {},
   "cell_type": "markdown",
   "metadata": {},
   "source": [
    "## tuples"
   ]
  },
  {
   "cell_type": "code",
   "execution_count": 6,
   "metadata": {},
   "outputs": [],
   "source": [
    "list_1 = [1,2,3]\n",
    "tuples_1 = (1,2,3,4,5)"
   ]
  },
  {
   "cell_type": "code",
   "execution_count": 7,
   "metadata": {},
   "outputs": [],
   "source": [
    "list_1[1] = 30"
   ]
  },
  {
   "cell_type": "code",
   "execution_count": 8,
   "metadata": {},
   "outputs": [
    {
     "data": {
      "text/plain": [
       "[1, 30, 3]"
      ]
     },
     "execution_count": 8,
     "metadata": {},
     "output_type": "execute_result"
    }
   ],
   "source": [
    "list_1"
   ]
  },
  {
   "cell_type": "code",
   "execution_count": 11,
   "metadata": {},
   "outputs": [
    {
     "ename": "TypeError",
     "evalue": "'tuple' object does not support item assignment",
     "output_type": "error",
     "traceback": [
      "\u001b[1;31m---------------------------------------------------------------------------\u001b[0m",
      "\u001b[1;31mTypeError\u001b[0m                                 Traceback (most recent call last)",
      "\u001b[1;32mc:\\Users\\pouya\\Projects\\Python-Class-May-2023\\03\\if_statement.ipynb Cell 4\u001b[0m in \u001b[0;36m1\n\u001b[1;32m----> <a href='vscode-notebook-cell:/c%3A/Users/pouya/Projects/Python-Class-May-2023/03/if_statement.ipynb#W3sZmlsZQ%3D%3D?line=0'>1</a>\u001b[0m tuples_1[\u001b[39m1\u001b[39;49m] \u001b[39m=\u001b[39m \u001b[39m320\u001b[39m\n",
      "\u001b[1;31mTypeError\u001b[0m: 'tuple' object does not support item assignment"
     ]
    }
   ],
   "source": [
    "tuples_1[1] = 320"
   ]
  },
  {
   "cell_type": "code",
   "execution_count": 12,
   "metadata": {},
   "outputs": [
    {
     "name": "stdout",
     "output_type": "stream",
     "text": [
      "1\n",
      "2\n",
      "3\n",
      "4\n",
      "5\n"
     ]
    }
   ],
   "source": [
    "for item in tuples_1:\n",
    "    print(item)"
   ]
  },
  {
   "attachments": {},
   "cell_type": "markdown",
   "metadata": {},
   "source": [
    "## if statement"
   ]
  },
  {
   "cell_type": "code",
   "execution_count": 19,
   "metadata": {},
   "outputs": [
    {
     "name": "stdout",
     "output_type": "stream",
     "text": [
      "Audi\n",
      "BMW\n",
      "Subaru\n",
      "Toyota\n"
     ]
    }
   ],
   "source": [
    "cars = ['toyaudi',  'bmw', 'subaru', 'ota']\n",
    "\n",
    "for car in cars:\n",
    "    if car == 'bmw':    # True or False\n",
    "        print(car.upper()) # if True, print the car in upper cas\n",
    "    else:\n",
    "        print(car.title()) # if False, print the car in title case"
   ]
  },
  {
   "cell_type": "code",
   "execution_count": 20,
   "metadata": {},
   "outputs": [
    {
     "name": "stdout",
     "output_type": "stream",
     "text": [
      "Audi\n",
      "BMW\n",
      "Subaru\n",
      "Toyota\n"
     ]
    }
   ],
   "source": [
    "for car in cars:\n",
    "    if car != 'bmw':\n",
    "        print(car.title())\n",
    "    else:\n",
    "        print(car.upper())"
   ]
  },
  {
   "cell_type": "code",
   "execution_count": 22,
   "metadata": {},
   "outputs": [
    {
     "name": "stdout",
     "output_type": "stream",
     "text": [
      "5\n",
      "6\n",
      "7\n",
      "8\n",
      "9\n",
      "10\n"
     ]
    }
   ],
   "source": [
    "list_of_numbers = [1, 2, 3, 4, 5, 6, 7, 8, 9, 10]\n",
    "\n",
    "for number in list_of_numbers:\n",
    "    if number >=  5:\n",
    "        print(number)"
   ]
  },
  {
   "cell_type": "code",
   "execution_count": 25,
   "metadata": {},
   "outputs": [
    {
     "name": "stdout",
     "output_type": "stream",
     "text": [
      "Your car name is 206\n"
     ]
    }
   ],
   "source": [
    "# Input \n",
    "car_name = input(\"What is your car name? \")\n",
    "\n",
    "print(\"Your car name is \" + car_name)"
   ]
  },
  {
   "cell_type": "code",
   "execution_count": 31,
   "metadata": {},
   "outputs": [
    {
     "name": "stdout",
     "output_type": "stream",
     "text": [
      "You don't have a nice car!\n"
     ]
    }
   ],
   "source": [
    "car_name = input(\"What is your car name? \")\n",
    "\n",
    "if car_name == \"BMW\" or car_name == \"bmw\":\n",
    "    print(\"You have a nice car!\")\n",
    "else:\n",
    "    print(\"You don't have a nice car!\")\n",
    "    "
   ]
  },
  {
   "cell_type": "code",
   "execution_count": 33,
   "metadata": {},
   "outputs": [
    {
     "name": "stdout",
     "output_type": "stream",
     "text": [
      "BMw\n",
      "You have a nice car!\n"
     ]
    }
   ],
   "source": [
    "car_name = input(\"What is your car name? \")\n",
    "print(car_name)\n",
    "\n",
    "if car_name.lower() == \"bmw\": \n",
    "    print(\"You have a nice car!\")\n",
    "else:\n",
    "    print(\"You don't have a nice car!\")"
   ]
  },
  {
   "cell_type": "code",
   "execution_count": 36,
   "metadata": {},
   "outputs": [
    {
     "name": "stdout",
     "output_type": "stream",
     "text": [
      "6\n",
      "12\n",
      "18\n"
     ]
    }
   ],
   "source": [
    "list_of_numbers = [1, 2, 3, 4, 5, 6, 7, 8, 9, 10,  11, 12, 13, 14, 15, 16, 17, 18, 19, 20]\n",
    "\n",
    "for number in list_of_numbers:\n",
    "    if number % 2 == 0 and number % 3 == 0:\n",
    "        print(number)"
   ]
  },
  {
   "cell_type": "code",
   "execution_count": null,
   "metadata": {},
   "outputs": [],
   "source": [
    "divisable_by_2 = []\n",
    "divisable_by_3 = []\n",
    "\n",
    "for number in list_of_numbers:\n",
    "    if number % 2 == 0:\n",
    "        divisable_by_2.append(number)\n",
    "    else:\n",
    "        if number % 3 == 0:\n",
    "            divisable_by_3.append(number)"
   ]
  },
  {
   "cell_type": "code",
   "execution_count": null,
   "metadata": {},
   "outputs": [],
   "source": [
    "divisable_by_2 = []\n",
    "divisable_by_3 = []\n",
    "\n",
    "for number in list_of_numbers:\n",
    "    if number % 2 == 0:\n",
    "        divisable_by_2.append(number)\n",
    "    elif number % 3 == 0:\n",
    "        divisable_by_3.append(number)\n",
    "    else:\n",
    "        print(\"continue..\")"
   ]
  },
  {
   "cell_type": "code",
   "execution_count": 38,
   "metadata": {},
   "outputs": [
    {
     "name": "stdout",
     "output_type": "stream",
     "text": [
      "your age is 23\n",
      "adult\n"
     ]
    }
   ],
   "source": [
    "age = 23\n",
    "\n",
    "if age >= 18:\n",
    "    print('your age is', age)\n",
    "    print('adult')\n",
    "    \n",
    "elif age >= 13:\n",
    "    print('your age is', age)\n",
    "    print('teenager')\n",
    "    \n",
    "else:\n",
    "    print('your age is', age)\n",
    "    print('kid')"
   ]
  },
  {
   "cell_type": "code",
   "execution_count": 42,
   "metadata": {},
   "outputs": [
    {
     "name": "stdout",
     "output_type": "stream",
     "text": [
      "your age is 14\n",
      "teenager\n"
     ]
    }
   ],
   "source": [
    "if age >= 18:\n",
    "    print('your age is', age)\n",
    "    print('adult')\n",
    "    \n",
    "if age >= 13:\n",
    "    print('your age is', age)\n",
    "    print('teenager')\n",
    "    \n",
    "if age >= 6:\n",
    "    print('your age is', age)\n",
    "    print('kid')"
   ]
  },
  {
   "cell_type": "code",
   "execution_count": 47,
   "metadata": {},
   "outputs": [
    {
     "name": "stdout",
     "output_type": "stream",
     "text": [
      "You are older than 12\n"
     ]
    }
   ],
   "source": [
    "user_age = int(input(\"Enter your age: \"))\n",
    "\n",
    "if user_age >= 12:\n",
    "    print(\"You are older than 12\")  "
   ]
  },
  {
   "cell_type": "code",
   "execution_count": 59,
   "metadata": {},
   "outputs": [
    {
     "name": "stdout",
     "output_type": "stream",
     "text": [
      "Tehran is in the list\n"
     ]
    }
   ],
   "source": [
    "long_list_of_city_names = [\n",
    "    \"New York\",\n",
    "    \"Los Angeles\",\n",
    "    \"Chicago\",\n",
    "    \"Houston\",\n",
    "    \"Phoenix\",\n",
    "    \"Philadelphia\",\n",
    "    \"San Antonio\",\n",
    "    \"San Antonio\",\n",
    "    \"San Diego\",\n",
    "    \"Dallas\",\n",
    "    \"San Jose\",\n",
    "    \"Tehran\",\n",
    "    \"Karaj\"\n",
    "]\n",
    "\n",
    "if \"Tehran\" in long_list_of_city_names:\n",
    "    print(\"Tehran is in the list\")\n",
    "else:\n",
    "    print(\"Tehran is not in the list\")"
   ]
  },
  {
   "cell_type": "code",
   "execution_count": 56,
   "metadata": {},
   "outputs": [
    {
     "name": "stdout",
     "output_type": "stream",
     "text": [
      "Toronto is not in the list\n"
     ]
    }
   ],
   "source": [
    "if \"Toronto\" not in long_list_of_city_names:\n",
    "    print(\"Toronto is not in the list\")\n"
   ]
  },
  {
   "cell_type": "code",
   "execution_count": 57,
   "metadata": {},
   "outputs": [
    {
     "name": "stdout",
     "output_type": "stream",
     "text": [
      "a is in the string\n"
     ]
    }
   ],
   "source": [
    "if \"a\" in \"abcdefghijklmnopqrstuvwxyz\":\n",
    "    print(\"a is in the string\")"
   ]
  },
  {
   "cell_type": "code",
   "execution_count": 60,
   "metadata": {},
   "outputs": [
    {
     "name": "stdout",
     "output_type": "stream",
     "text": [
      "tehran\n",
      "karaj\n"
     ]
    }
   ],
   "source": [
    "for city_name in long_list_of_city_names:\n",
    "    if city_name == \"Tehran\" or  city_name == \"Karaj\":\n",
    "        print(city_name.lower())"
   ]
  },
  {
   "cell_type": "code",
   "execution_count": 61,
   "metadata": {},
   "outputs": [
    {
     "name": "stdout",
     "output_type": "stream",
     "text": [
      "tehran\n",
      "karaj\n"
     ]
    }
   ],
   "source": [
    "if \"Tehran\" in long_list_of_city_names:\n",
    "    print(\"tehran\")\n",
    "if \"Karaj\" in long_list_of_city_names:\n",
    "    print(\"karaj\")"
   ]
  },
  {
   "cell_type": "code",
   "execution_count": 62,
   "metadata": {},
   "outputs": [
    {
     "name": "stdout",
     "output_type": "stream",
     "text": [
      "Adding mushrooms.\n",
      "Sorry, we don't have french fries.\n",
      "Adding extra cheese.\n"
     ]
    }
   ],
   "source": [
    "available_toppings = [\n",
    "    \"mushrooms\",\n",
    "    \"olives\",\n",
    "    \"green peppers\",\n",
    "    \"pepperoni\",\n",
    "    \"pineapple\",\n",
    "    \"extra cheese\",\n",
    "]\n",
    "\n",
    "requested_toppings = [\"mushrooms\", \"french fries\", \"extra cheese\"]\n",
    "\n",
    "for requested_topping in requested_toppings:\n",
    "    \n",
    "    if requested_topping in available_toppings:\n",
    "        print(f\"Adding {requested_topping}.\")\n",
    "    else:\n",
    "        print(f\"Sorry, we don't have {requested_topping}.\")"
   ]
  },
  {
   "cell_type": "code",
   "execution_count": 64,
   "metadata": {},
   "outputs": [
    {
     "name": "stdout",
     "output_type": "stream",
     "text": [
      "Six is greater than two!\n"
     ]
    }
   ],
   "source": []
  }
 ],
 "metadata": {
  "kernelspec": {
   "display_name": "testpy",
   "language": "python",
   "name": "python3"
  },
  "language_info": {
   "codemirror_mode": {
    "name": "ipython",
    "version": 3
   },
   "file_extension": ".py",
   "mimetype": "text/x-python",
   "name": "python",
   "nbconvert_exporter": "python",
   "pygments_lexer": "ipython3",
   "version": "3.10.8"
  },
  "orig_nbformat": 4
 },
 "nbformat": 4,
 "nbformat_minor": 2
}

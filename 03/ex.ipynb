{
 "cells": [
  {
   "attachments": {},
   "cell_type": "markdown",
   "metadata": {},
   "source": [
    "Write a program that takes a list of numbers as an input and prints the sum of all the even numbers in the list. \n",
    "\n",
    "Test Input:\n",
    "numbers = [1, 2, 3, 4, 5, 6, 7, 8, 9, 10]\n",
    "\n",
    "Expected Output:\n",
    "30"
   ]
  },
  {
   "cell_type": "code",
   "execution_count": null,
   "metadata": {},
   "outputs": [],
   "source": []
  },
  {
   "attachments": {},
   "cell_type": "markdown",
   "metadata": {},
   "source": [
    "Write a program that takes a list of words as an input and prints the number of words that start with the letter \"a\". \n",
    "Test Input:\n",
    "words = [\"apple\", \"banana\", \"avocado\", \"orange\", \"pear\", \"apricot\"]\n",
    "\n",
    "Expected Output:\n",
    "2"
   ]
  },
  {
   "cell_type": "code",
   "execution_count": null,
   "metadata": {},
   "outputs": [],
   "source": []
  },
  {
   "attachments": {},
   "cell_type": "markdown",
   "metadata": {},
   "source": [
    "Write a program that takes a list of integers as an input and prints the largest and smallest numbers in the list. \n",
    "\n",
    "Test Input:\n",
    "numbers = [5, 10, 2, 8, 3, 6]\n",
    "\n",
    "Expected Output:\n",
    "Largest: 10\n",
    "Smallest: 2"
   ]
  },
  {
   "cell_type": "code",
   "execution_count": null,
   "metadata": {},
   "outputs": [],
   "source": []
  }
 ],
 "metadata": {
  "language_info": {
   "name": "python"
  },
  "orig_nbformat": 4
 },
 "nbformat": 4,
 "nbformat_minor": 2
}

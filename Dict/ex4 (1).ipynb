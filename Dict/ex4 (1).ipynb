{
 "cells": [
  {
   "attachments": {},
   "cell_type": "markdown",
   "metadata": {},
   "source": [
    "## Dictionary of Students' Grades: \n",
    "Create a dictionary of students' grades where the keys are the student names and the values are lists of their grades. Write a program that loops through the dictionary and calculates each student's average grade. Print out each student's name and their average grade."
   ]
  },
  {
   "cell_type": "code",
   "execution_count": 54,
   "metadata": {},
   "outputs": [
    {
     "name": "stdout",
     "output_type": "stream",
     "text": [
      "student name : Mey\n",
      "Average : 15.67\n",
      "student name : Charlie\n",
      "Average : 12.67\n"
     ]
    }
   ],
   "source": [
    "list_of_grades = {\n",
    "    'Mey':{\n",
    "        'Math':20,\n",
    "        'Geo':12,\n",
    "        'bio':15,\n",
    "    },\n",
    "    'Charlie':{\n",
    "        'Math':7,\n",
    "        'Geo':20,\n",
    "        'bio':11,\n",
    "    },\n",
    "}\n",
    "for names,courses in list_of_grades.items():\n",
    "\n",
    "    print(f\"student name : {names.title()}\")\n",
    "    #print(courses)\n",
    "    \n",
    "\n",
    "    courses_list = list(courses)\n",
    "    #print(courses_list)\n",
    "    \n",
    "    \n",
    "    list_grades = []\n",
    "    for grades in courses:\n",
    "        list_grades.append(courses[grades])\n",
    "\n",
    "    sum_ = 0\n",
    "    counter = len(list_grades)\n",
    "    for i in list_grades:\n",
    "        sum_ += i\n",
    "        average = sum_/counter\n",
    "    print(f\"Average : {average:.2f}\")\n"
   ]
  },
  {
   "attachments": {},
   "cell_type": "markdown",
   "metadata": {},
   "source": [
    "## Dictionary of Employee Information: \n",
    "Create a dictionary of employee information where the keys are employee IDs and the values are dictionaries containing their name, department, and salary. Write a program that loops through the dictionary and prints out each employee's ID, name, department, and salary.\n"
   ]
  },
  {
   "cell_type": "code",
   "execution_count": 60,
   "metadata": {},
   "outputs": [
    {
     "name": "stdout",
     "output_type": "stream",
     "text": [
      "ID : Rob\n",
      "Name : Robert\n",
      "Name : finacial\n",
      "Name : 6000$\n",
      "ID : Ginny\n",
      "Name : Georgina\n",
      "Name : marketing\n",
      "Name : 11000$\n"
     ]
    }
   ],
   "source": [
    "employee_information = {\n",
    "    \"Rob\":{\n",
    "        \"name\":\"Robert\",\n",
    "        \"department\":\"finacial\",\n",
    "        \"salary\":\"6000$\"\n",
    "    },\n",
    "    \"Ginny\":{\"name\":\"Georgina\",\n",
    "    \"department\":\"marketing\",\n",
    "    \"salary\":\"11000$\"\n",
    "    }\n",
    "} \n",
    "for id,info in employee_information.items():\n",
    "    \n",
    "    \n",
    "    name = info[\"name\"] \n",
    "    department = info[\"department\"]\n",
    "    salary = info[\"salary\"]\n",
    "\n",
    "\n",
    "    print(f\"ID : {id}\")\n",
    "    print(f\"Name : {name}\")\n",
    "    print(f\"Name : {department}\")\n",
    "    print(f\"Name : {salary}\")\n"
   ]
  },
  {
   "attachments": {},
   "cell_type": "markdown",
   "metadata": {},
   "source": [
    "## Dictionary of Words and Their Definitions: \n",
    "Create a dictionary of words and their definitions where the keys are words and the values are strings containing their definitions. Write a program that loops through the dictionary and asks the user to enter a word. If the word is in the dictionary, print out its definition. If not, ask if they would like to add it to the dictionary with its definition. If yes, add it to the dictionary and print out all words in alphabetical order with their definitions."
   ]
  },
  {
   "cell_type": "code",
   "execution_count": 6,
   "metadata": {},
   "outputs": [],
   "source": [
    "dictionary_ = {\n",
    "    \"abstract\":\"to draw away the attention of\",\n",
    "    \"accomplished\":\"to bring about by result\",\n",
    "    \"fistful\":\"a considerable number of amount\"\n",
    "}\n",
    "\n",
    "user_input = input(\"Enter the word you want to translate:\")\n",
    "\n",
    "# if  user_input.lower() in dictionary_.keys():\n",
    "#     print(f\"meaning : {dictionary_[user_input]}\")\n",
    "  \n",
    "    \n",
    "for key,value in dictionary_.items():\n",
    "    if user_input.lower() == key.lower():\n",
    "        print(f\"meaning : {dictionary_[key]}\")\n",
    "        break\n",
    "    else:\n",
    "        ask_user = str(input(\"SORRY!The word is not available//to Add press a\"))\n",
    "        if ask_user  == \"a\":\n",
    "            your_def = str(input(\"Enter your own defenition\"))\n",
    "            dictionary_[user_input] = your_def\n",
    "            for keys,values  in sorted(dictionary_.items()):\n",
    "                print(\"\\t\" ,keys.title())\n",
    "                print(\"\\t\\t means -->\",values.title())\n",
    "\n",
    "\n",
    "        break"
   ]
  }
 ],
 "metadata": {
  "kernelspec": {
   "display_name": "Python 3",
   "language": "python",
   "name": "python3"
  },
  "language_info": {
   "codemirror_mode": {
    "name": "ipython",
    "version": 3
   },
   "file_extension": ".py",
   "mimetype": "text/x-python",
   "name": "python",
   "nbconvert_exporter": "python",
   "pygments_lexer": "ipython3",
   "version": "3.10.8"
  },
  "orig_nbformat": 4
 },
 "nbformat": 4,
 "nbformat_minor": 2
}

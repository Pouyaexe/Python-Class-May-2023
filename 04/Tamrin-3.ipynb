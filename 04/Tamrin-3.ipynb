{
 "cells": [
  {
   "cell_type": "code",
   "execution_count": 3,
   "metadata": {},
   "outputs": [
    {
     "name": "stdout",
     "output_type": "stream",
     "text": [
      "25\n"
     ]
    }
   ],
   "source": [
    "# Write a program that takes a list of numbers as an input and prints the sum of all the even numbers in the list. \n",
    "# Test Input:   numbers = [1, 2, 3, 4, 5, 6, 7, 8, 9, 10]\n",
    "# Expected Output: 30\n",
    "\n",
    "numbers = [1, 2, 3, 4, 5, 6, 7, 8, 9, 10]\n",
    "sum_ = 0\n",
    "for number in numbers:\n",
    "    if number % 2 == 1:\n",
    "        sum_ += number\n",
    "print(sum_)\n",
    "   "
   ]
  },
  {
   "cell_type": "code",
   "execution_count": 49,
   "metadata": {},
   "outputs": [
    {
     "name": "stdout",
     "output_type": "stream",
     "text": [
      "[4, 5, 7, 8, 9]\n",
      "21\n"
     ]
    }
   ],
   "source": [
    "numbers_ = []\n",
    "summ = 0\n",
    "#a = int(input('Enter the numbers for list:'))\n",
    "for i in range(5):\n",
    "    a = int(input('Enter the numbers for list:'))\n",
    "    numbers_.append(a)\n",
    "for i in numbers_:\n",
    "    if i % 2 == 1 :\n",
    "        summ += i   \n",
    "print(numbers_)\n",
    "print(summ)"
   ]
  },
  {
   "cell_type": "code",
   "execution_count": 10,
   "metadata": {},
   "outputs": [],
   "source": [
    "numbers = []\n",
    "user_input = \"\"\n",
    "sum_of_numbers = 0\n",
    "\n",
    "while(True):\n",
    "    user_input = input(\"Enter a number (Enter q to stop): \")\n",
    "    if user_input == \"q\":\n",
    "        break\n",
    "    else:\n",
    "        number = int(user_input)\n",
    "        numbers.append(number)\n",
    "        sum_of_numbers += number"
   ]
  },
  {
   "attachments": {},
   "cell_type": "markdown",
   "metadata": {},
   "source": [
    "Q:  ?اگر بخوایم range اختیاری باشه"
   ]
  },
  {
   "cell_type": "code",
   "execution_count": 55,
   "metadata": {},
   "outputs": [
    {
     "name": "stdout",
     "output_type": "stream",
     "text": [
      "apple\n",
      "avocado\n",
      "apricot\n"
     ]
    }
   ],
   "source": [
    "#Write a program that takes a list of words as an input and prints the number of words that start with the letter \"a\". \n",
    "#Test Input:   words = [\"apple\", \"banana\", \"avocado\", \"orange\", \"pear\", \"apricot\"]\n",
    "#Expected Output: 2\n",
    "\n",
    "words = [\"apple\", \"banana\", \"avocado\", \"orange\", \"pear\", \"apricot\"]\n",
    "for word in words:\n",
    "    a= list(word)\n",
    "    if a[0] == 'a':\n",
    "        print(word)"
   ]
  },
  {
   "cell_type": "code",
   "execution_count": 12,
   "metadata": {},
   "outputs": [
    {
     "name": "stdout",
     "output_type": "stream",
     "text": [
      "3\n"
     ]
    }
   ],
   "source": [
    "words = [\"apple\", \"banana\", \"avocado\", \"orange\", \"pear\", \"apricot\"]\n",
    "counter = 0\n",
    "for word in words:\n",
    "    if word[0] == \"a\":\n",
    "        counter += 1\n",
    "print(counter)"
   ]
  },
  {
   "cell_type": "code",
   "execution_count": null,
   "metadata": {},
   "outputs": [],
   "source": []
  },
  {
   "cell_type": "code",
   "execution_count": 14,
   "metadata": {},
   "outputs": [
    {
     "name": "stdout",
     "output_type": "stream",
     "text": [
      "['apple', 'bob', 'aa', 'a', 'a', 'a']\n",
      "['a', 'a']\n"
     ]
    }
   ],
   "source": [
    "words_ = []\n",
    "a = []\n",
    "for i in range(6):\n",
    "    b = input('Enter words for list:')\n",
    "    words_.append(b)\n",
    "for word in words_:\n",
    "    a = list(word)\n",
    "    if a[0] == 'a':\n",
    "        a.append(word)\n",
    "\n",
    "print(words_)\n",
    "print(a)\n"
   ]
  },
  {
   "cell_type": "code",
   "execution_count": 85,
   "metadata": {},
   "outputs": [
    {
     "name": "stdout",
     "output_type": "stream",
     "text": [
      "5\n",
      "3\n",
      "5\n",
      "6\n",
      "8\n",
      "10\n",
      "12\n"
     ]
    }
   ],
   "source": [
    "#Write a program that takes a list of integers as an input and prints the largest and smallest numbers in the list. \n",
    "#Test Input:     numbers = [5, 10, 2, 8, 3, 6]\n",
    "#Expected Output:   Largest: 10        Smallest: 2\n",
    "numbers = [5, 10, 2, 8, 3, 6, 12]\n",
    "for number in numbers :\n",
    "    numbers.sort()\n",
    "    print(number)\n"
   ]
  },
  {
   "cell_type": "code",
   "execution_count": 15,
   "metadata": {},
   "outputs": [
    {
     "name": "stdout",
     "output_type": "stream",
     "text": [
      "smallest :2\n",
      "largest :12\n"
     ]
    }
   ],
   "source": [
    "numbers = [5, 10, 2, 8, 3, 6, 12]\n",
    "numbers.sort()\n",
    "print(f'smallest :{numbers[0]}')\n",
    "print(f'largest :{numbers[-1]}')\n"
   ]
  },
  {
   "cell_type": "code",
   "execution_count": 16,
   "metadata": {},
   "outputs": [
    {
     "name": "stdout",
     "output_type": "stream",
     "text": [
      "Largest:12\n",
      "Smallest:2\n"
     ]
    }
   ],
   "source": [
    "numbers = [5, 10, 2, 8, 3, 6, 12]\n",
    "\n",
    "largest = numbers[0]\n",
    "smallest = numbers[0]\n",
    "\n",
    "for number in numbers:\n",
    "    if number > largest:\n",
    "        largest = number\n",
    "\n",
    "    if number < smallest:\n",
    "        smallest = number\n",
    "\n",
    "print(f\"Largest:{largest}\")\n",
    "print(f\"Smallest:{smallest}\")\n"
   ]
  },
  {
   "cell_type": "code",
   "execution_count": 18,
   "metadata": {},
   "outputs": [
    {
     "name": "stdout",
     "output_type": "stream",
     "text": [
      "The largest element is:  12\n",
      "The smallest element is:  2\n"
     ]
    }
   ],
   "source": [
    "numbers = [5, 10, 2, 8, 3, 6, 12]\n",
    "largest = numbers[0]\n",
    "smallest = numbers[0]\n",
    "\n",
    "for i in range(len(numbers)): # range(start, stop, step)\n",
    "    #finding the largest element\n",
    "    if numbers[i] > largest:\n",
    "        largest = numbers[i]\n",
    "    #finding the smallest element\n",
    "    if numbers[i] < smallest:\n",
    "        smallest = numbers[i]\n",
    "print(\"The largest element is: \", largest)\n",
    "print(\"The smallest element is: \", smallest)"
   ]
  },
  {
   "cell_type": "code",
   "execution_count": 98,
   "metadata": {},
   "outputs": [
    {
     "name": "stdout",
     "output_type": "stream",
     "text": [
      "['4', '6', '7', '8', '9']\n",
      "smallest :4\n",
      "largest :9\n"
     ]
    }
   ],
   "source": [
    "nums = []\n",
    "for num in range(5):\n",
    "    n = str(input('Enter numbers for list:'))\n",
    "    nums.append(n)\n",
    "\n",
    "\n",
    "nums.sort()\n",
    "print(nums)\n",
    "print(f'smallest :{nums[0]}')\n",
    "print(f'largest :{nums[len(nums)-1]}')"
   ]
  }
 ],
 "metadata": {
  "kernelspec": {
   "display_name": "Python 3",
   "language": "python",
   "name": "python3"
  },
  "language_info": {
   "codemirror_mode": {
    "name": "ipython",
    "version": 3
   },
   "file_extension": ".py",
   "mimetype": "text/x-python",
   "name": "python",
   "nbconvert_exporter": "python",
   "pygments_lexer": "ipython3",
   "version": "3.10.8"
  },
  "orig_nbformat": 4
 },
 "nbformat": 4,
 "nbformat_minor": 2
}

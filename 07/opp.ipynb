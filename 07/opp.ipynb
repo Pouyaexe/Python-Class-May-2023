{
 "cells": [
  {
   "cell_type": "code",
   "execution_count": 3,
   "metadata": {},
   "outputs": [
    {
     "name": "stdout",
     "output_type": "stream",
     "text": [
      "18.0\n"
     ]
    }
   ],
   "source": [
    "student_names = [\"Mark\", \"Katarina\", \"Jessica\"]\n",
    "student_last_names = [\"Kowalski\", \"Jacobson\", \"Ali\"]\n",
    "student_id = [998523, 998352, 998632]\n",
    "student_grade = [20, 18, 16]\n",
    "\n",
    "# imlment a dict\n",
    "\n",
    "student_dicts = {\n",
    "    998523: {\"name\": \"Mark\", \"last_name\": \"Kowalski\", \"grade\": 20},\n",
    "    998352: {\"name\": \"Katarina\", \"last_name\": \"Jacobson\", \"grade\": 18},\n",
    "    998632: {\"name\": \"Jessica\", \"last_name\": \"Ali\", \"grade\": 16},\n",
    "}\n",
    "\n",
    "# Avg of grades\n",
    "sun = 0\n",
    "for student_id, student_dict in student_dicts.items():\n",
    "    for key, value in student_dict.items():\n",
    "        if key == \"grade\":\n",
    "            sun += value\n",
    "\n",
    "print(sun / 3)"
   ]
  },
  {
   "cell_type": "code",
   "execution_count": 7,
   "metadata": {},
   "outputs": [
    {
     "name": "stdout",
     "output_type": "stream",
     "text": [
      "<class 'list'>\n"
     ]
    }
   ],
   "source": [
    "print(type(student_grade))"
   ]
  },
  {
   "cell_type": "code",
   "execution_count": 30,
   "metadata": {},
   "outputs": [],
   "source": [
    "class Dog:\n",
    "    \"\"\"A simple attempt to model a dog.\"\"\"\n",
    "\n",
    "    def __init__(self, name, age):\n",
    "        \"\"\"Initialize name and age attributes.\"\"\"\n",
    "        self.name = name\n",
    "        self.age = age\n",
    "        self.is_sit = False\n",
    "\n",
    "    def sit(self):\n",
    "        \"\"\"Simulate a dog sitting in response to a command.\"\"\"\n",
    "        self.is_sit = True\n",
    "        print(self.name.title() + \" is now sitting.\")\n",
    "\n",
    "    def stand_up(self):\n",
    "        \"\"\"Simulate a dog standing up in response to a command.\"\"\"\n",
    "        self.is_sit = False\n",
    "        print(self.name.title() + \" is now standing.\")\n",
    "    \n",
    "    def sit_or_stand(self):\n",
    "        \"\"\"Describes the current state of the dog.\"\"\"\n",
    "        if self.is_sit:\n",
    "            print(self.name.title() + \" is now sitting.\")\n",
    "        else:\n",
    "            print(self.name.title() + \" is now standing.\")\n",
    "\n",
    "    def roll_over(self):\n",
    "        \"\"\"Simulate rolling over in response to a command.\"\"\"\n",
    "        print(self.name.title() + \" rolled over!\")"
   ]
  },
  {
   "cell_type": "code",
   "execution_count": 31,
   "metadata": {},
   "outputs": [
    {
     "name": "stdout",
     "output_type": "stream",
     "text": [
      "Buddy rolled over!\n",
      "Fido rolled over!\n"
     ]
    }
   ],
   "source": [
    "dog1 = Dog(\"Fido\", 4)\n",
    "dog2 = Dog(\"Buddy\", 9)\n",
    "dog3 = Dog(\"Lassie\", 3)\n",
    "\n",
    "dog2.roll_over() \n",
    "dog1.roll_over()"
   ]
  },
  {
   "cell_type": "code",
   "execution_count": 24,
   "metadata": {},
   "outputs": [
    {
     "name": "stdout",
     "output_type": "stream",
     "text": [
      "False\n"
     ]
    }
   ],
   "source": [
    "print(dog1.is_sit)"
   ]
  },
  {
   "cell_type": "code",
   "execution_count": 32,
   "metadata": {},
   "outputs": [
    {
     "name": "stdout",
     "output_type": "stream",
     "text": [
      "Fido is now sitting.\n"
     ]
    }
   ],
   "source": [
    "dog1.sit()"
   ]
  },
  {
   "cell_type": "code",
   "execution_count": 27,
   "metadata": {},
   "outputs": [
    {
     "name": "stdout",
     "output_type": "stream",
     "text": [
      "True\n",
      "Fido is now standing.\n",
      "False\n"
     ]
    }
   ],
   "source": [
    "print(dog1.is_sit)\n",
    "dog1.stand_up()\n",
    "print(dog1.is_sit)"
   ]
  },
  {
   "cell_type": "code",
   "execution_count": 33,
   "metadata": {},
   "outputs": [
    {
     "name": "stdout",
     "output_type": "stream",
     "text": [
      "Fido is now sitting.\n",
      "Buddy is now standing.\n",
      "Lassie is now standing.\n"
     ]
    }
   ],
   "source": [
    "dog1.sit_or_stand()\n",
    "dog2.sit_or_stand()\n",
    "dog3.sit_or_stand()\n",
    "\n"
   ]
  }
 ],
 "metadata": {
  "kernelspec": {
   "display_name": "testpy",
   "language": "python",
   "name": "python3"
  },
  "language_info": {
   "codemirror_mode": {
    "name": "ipython",
    "version": 3
   },
   "file_extension": ".py",
   "mimetype": "text/x-python",
   "name": "python",
   "nbconvert_exporter": "python",
   "pygments_lexer": "ipython3",
   "version": "3.10.8"
  },
  "orig_nbformat": 4
 },
 "nbformat": 4,
 "nbformat_minor": 2
}

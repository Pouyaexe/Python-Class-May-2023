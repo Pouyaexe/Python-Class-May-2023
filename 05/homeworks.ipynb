{
 "cells": [
  {
   "attachments": {},
   "cell_type": "markdown",
   "metadata": {},
   "source": [
    "**Dictionary of Students' Grades:**  \n",
    "Create a dictionary of students' grades where the keys are the student names and the values are lists of their grades. Write a program that loops through the dictionary and calculates each student's average grade. Print out each student's name and their average grade."
   ]
  },
  {
   "cell_type": "code",
   "execution_count": 2,
   "metadata": {},
   "outputs": [
    {
     "name": "stdout",
     "output_type": "stream",
     "text": [
      "Alice: 89.0 \n",
      "Bob: 59.333333333333336 \n",
      "Charlie: 91.66666666666667 \n"
     ]
    }
   ],
   "source": [
    "grades = {\n",
    "    \"Alice\":[90, 85, 92],\n",
    "    \"Bob\":[78,20,80],\n",
    "    \"Charlie\":[95,92,88]\n",
    "}\n",
    "\n",
    "for student, grade_list in grades.items():\n",
    "    average_grade = sum(grade_list)/len(grade_list)\n",
    "    print(f\"{student}: {average_grade} \")"
   ]
  },
  {
   "attachments": {},
   "cell_type": "markdown",
   "metadata": {},
   "source": [
    " **Dictionary of Employee Information:**   \n",
    "Create a dictionary of employee information where the keys are employee IDs and the values are dictionaries containing their name, department, and salary. Write a program that loops through the dictionary and prints out each employee's ID, name, department, and salary."
   ]
  },
  {
   "cell_type": "code",
   "execution_count": 4,
   "metadata": {},
   "outputs": [
    {
     "name": "stdout",
     "output_type": "stream",
     "text": [
      "Employee ID: 001\n",
      "Name: John Doe\n",
      "Department: Marketing\n",
      "Salary: $50000\n",
      "\n",
      "Employee ID: 002\n",
      "Name: Jane Smith\n",
      "Department: Sales\n",
      "Salary: $60000\n",
      "\n",
      "Employee ID: 003\n",
      "Name: Mike Johnson\n",
      "Department: Finance\n",
      "Salary: $70000\n",
      "\n"
     ]
    }
   ],
   "source": [
    "employees = {\n",
    "    \"001\": {\n",
    "        \"name\": \"John Doe\",\n",
    "        \"department\": \"Marketing\",\n",
    "        \"salary\": 50000\n",
    "    },\n",
    "    \"002\": {\n",
    "        \"name\": \"Jane Smith\",\n",
    "        \"department\": \"Sales\",\n",
    "        \"salary\": 60000\n",
    "    },\n",
    "    \"003\": {\n",
    "        \"name\": \"Mike Johnson\",\n",
    "        \"department\": \"Finance\",\n",
    "        \"salary\": 70000\n",
    "    }\n",
    "}\n",
    "\n",
    "for emp_id, emp_info in employees.items():\n",
    "    print(f\"Employee ID: {emp_id}\")\n",
    "    print(f'Name: {emp_info[\"name\"]}')\n",
    "    print(f\"Department: {emp_info['department']}\")\n",
    "    print(f\"Salary: ${emp_info['salary']}\")\n",
    "    print()"
   ]
  },
  {
   "attachments": {},
   "cell_type": "markdown",
   "metadata": {},
   "source": [
    "**Dictionary of Words and Their Definitions:**   \n",
    "Create a dictionary of words and their definitions where the keys are words and the values are strings containing their definitions. Write a program that loops through the dictionary and asks the user to enter a word. If the word is in the dictionary, print out its definition. If not, ask if they would like to add it to the dictionary with its definition. If yes, add it to the dictionary and print out all words in alphabetical order with their definitions"
   ]
  },
  {
   "cell_type": "code",
   "execution_count": 5,
   "metadata": {},
   "outputs": [
    {
     "name": "stdout",
     "output_type": "stream",
     "text": [
      "Invalid input\n"
     ]
    }
   ],
   "source": [
    "dictionary = {\n",
    "    \"apple\": \"a fruit that grows on trees and is typically red or green\",\n",
    "    \"car\": \"a road vehicle with an engine and four wheels\",\n",
    "    \"computer\": \"an electronic device that can store, retrieve, and process data\",\n",
    "}\n",
    "\n",
    "word = input(\"Enter a word: \")\n",
    "\n",
    "if word in dictionary:\n",
    "    print(dictionary[word])\n",
    "else:\n",
    "    add_word = input(\n",
    "        \"Word not found. Do you want to add it to the dictionary? (yes/no) \"\n",
    "    )\n",
    "    if add_word.lower() == \"yes\" or add_word.lower() == \"y\":\n",
    "        definition = input(\"Enter the definition: \")\n",
    "        dictionary[word] = definition\n",
    "        print(\"Word added to the dictionary.\")\n",
    "        for word, definition in dictionary:\n",
    "            print(f\"{word}: {definition}\")\n",
    "    elif add_word.lower() == \"no\":\n",
    "        print(\"Word not added to the dictionary.\")\n",
    "    else:\n",
    "        print(\"Invalid input\")"
   ]
  },
  {
   "attachments": {},
   "cell_type": "markdown",
   "metadata": {},
   "source": [
    "## Clock"
   ]
  },
  {
   "cell_type": "code",
   "execution_count": 1,
   "metadata": {},
   "outputs": [
    {
     "name": "stdout",
     "output_type": "stream",
     "text": [
      " 0 : 0 : 1"
     ]
    },
    {
     "ename": "KeyboardInterrupt",
     "evalue": "",
     "output_type": "error",
     "traceback": [
      "\u001b[1;31m---------------------------------------------------------------------------\u001b[0m",
      "\u001b[1;31mKeyboardInterrupt\u001b[0m                         Traceback (most recent call last)",
      "\u001b[1;32mc:\\Users\\pouya\\Projects\\Python-Class-May-2023\\05\\homeworks.ipynb Cell 8\u001b[0m in \u001b[0;36m8\n\u001b[0;32m      <a href='vscode-notebook-cell:/c%3A/Users/pouya/Projects/Python-Class-May-2023/05/homeworks.ipynb#X10sZmlsZQ%3D%3D?line=5'>6</a>\u001b[0m \u001b[39mfor\u001b[39;00m second \u001b[39min\u001b[39;00m \u001b[39mrange\u001b[39m(\u001b[39m60\u001b[39m):\n\u001b[0;32m      <a href='vscode-notebook-cell:/c%3A/Users/pouya/Projects/Python-Class-May-2023/05/homeworks.ipynb#X10sZmlsZQ%3D%3D?line=6'>7</a>\u001b[0m     \u001b[39mprint\u001b[39m(\u001b[39m\"\u001b[39m\u001b[39m\\r\u001b[39;00m\u001b[39m\"\u001b[39m, hour, \u001b[39m\"\u001b[39m\u001b[39m:\u001b[39m\u001b[39m\"\u001b[39m, minute, \u001b[39m\"\u001b[39m\u001b[39m:\u001b[39m\u001b[39m\"\u001b[39m, second, end\u001b[39m=\u001b[39m\u001b[39m\"\u001b[39m\u001b[39m\"\u001b[39m) \n\u001b[1;32m----> <a href='vscode-notebook-cell:/c%3A/Users/pouya/Projects/Python-Class-May-2023/05/homeworks.ipynb#X10sZmlsZQ%3D%3D?line=7'>8</a>\u001b[0m     time\u001b[39m.\u001b[39;49msleep(\u001b[39m1\u001b[39;49m)\n",
      "\u001b[1;31mKeyboardInterrupt\u001b[0m: "
     ]
    }
   ],
   "source": [
    "import time\n",
    "\n",
    "while(True):\n",
    "    for hour in range(24):\n",
    "        for minute in range(60):\n",
    "            for second in range(60):\n",
    "                print(\"\\r\", hour, \":\", minute, \":\", second, end=\"\") \n",
    "                time.sleep(1)"
   ]
  }
 ],
 "metadata": {
  "kernelspec": {
   "display_name": "testpy",
   "language": "python",
   "name": "python3"
  },
  "language_info": {
   "codemirror_mode": {
    "name": "ipython",
    "version": 3
   },
   "file_extension": ".py",
   "mimetype": "text/x-python",
   "name": "python",
   "nbconvert_exporter": "python",
   "pygments_lexer": "ipython3",
   "version": "3.10.8"
  },
  "orig_nbformat": 4
 },
 "nbformat": 4,
 "nbformat_minor": 2
}

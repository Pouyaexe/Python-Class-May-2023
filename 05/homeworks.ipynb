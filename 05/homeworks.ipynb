{
 "cells": [
  {
   "attachments": {},
   "cell_type": "markdown",
   "metadata": {},
   "source": [
    "**Dictionary of Students' Grades:**  \n",
    "Create a dictionary of students' grades where the keys are the student names and the values are lists of their grades. Write a program that loops through the dictionary and calculates each student's average grade. Print out each student's name and their average grade."
   ]
  },
  {
   "cell_type": "code",
   "execution_count": null,
   "metadata": {},
   "outputs": [],
   "source": []
  },
  {
   "attachments": {},
   "cell_type": "markdown",
   "metadata": {},
   "source": [
    " **Dictionary of Employee Information:**   \n",
    "Create a dictionary of employee information where the keys are employee IDs and the values are dictionaries containing their name, department, and salary. Write a program that loops through the dictionary and prints out each employee's ID, name, department, and salary."
   ]
  },
  {
   "cell_type": "code",
   "execution_count": null,
   "metadata": {},
   "outputs": [],
   "source": []
  },
  {
   "attachments": {},
   "cell_type": "markdown",
   "metadata": {},
   "source": [
    "**Dictionary of Words and Their Definitions:**   \n",
    "Create a dictionary of words and their definitions where the keys are words and the values are strings containing their definitions. Write a program that loops through the dictionary and asks the user to enter a word. If the word is in the dictionary, print out its definition. If not, ask if they would like to add it to the dictionary with its definition. If yes, add it to the dictionary and print out all words in alphabetical order with their definitions"
   ]
  },
  {
   "cell_type": "code",
   "execution_count": null,
   "metadata": {},
   "outputs": [],
   "source": []
  }
 ],
 "metadata": {
  "kernelspec": {
   "display_name": "testpy",
   "language": "python",
   "name": "python3"
  },
  "language_info": {
   "codemirror_mode": {
    "name": "ipython",
    "version": 3
   },
   "file_extension": ".py",
   "mimetype": "text/x-python",
   "name": "python",
   "nbconvert_exporter": "python",
   "pygments_lexer": "ipython3",
   "version": "3.10.8"
  },
  "orig_nbformat": 4
 },
 "nbformat": 4,
 "nbformat_minor": 2
}

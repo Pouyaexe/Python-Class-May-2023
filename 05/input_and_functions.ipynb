{
 "cells": [
  {
   "cell_type": "code",
   "execution_count": 1,
   "metadata": {},
   "outputs": [
    {
     "name": "stdout",
     "output_type": "stream",
     "text": [
      "pouya\n",
      "ghazaleh\n"
     ]
    }
   ],
   "source": [
    "active = True # Flag\n",
    "\n",
    "while(active):\n",
    "    message = input(\"enter 'quit' to end the program\")\n",
    "    \n",
    "    if message == 'quit':\n",
    "        active = False\n",
    "    else:\n",
    "        print(message)"
   ]
  },
  {
   "cell_type": "code",
   "execution_count": null,
   "metadata": {},
   "outputs": [],
   "source": [
    "active = True # Flag\n",
    "\n",
    "while(active):\n",
    "    message = input(\"enter 'quit' to end the program\")\n",
    "    \n",
    "    if message == 'quit':\n",
    "        break\n",
    "    else:\n",
    "        print(message)"
   ]
  },
  {
   "cell_type": "code",
   "execution_count": 16,
   "metadata": {},
   "outputs": [],
   "source": [
    "def greet_user():\n",
    "    \"\"\"Display a simple greeting.\"\"\"\n",
    "    print(\"Hello!\")"
   ]
  },
  {
   "cell_type": "code",
   "execution_count": 19,
   "metadata": {},
   "outputs": [
    {
     "name": "stdout",
     "output_type": "stream",
     "text": [
      "Hello!\n",
      "Hello!\n",
      "Hello!\n"
     ]
    }
   ],
   "source": [
    "greet_user()\n",
    "greet_user()\n",
    "greet_user()"
   ]
  },
  {
   "cell_type": "code",
   "execution_count": 9,
   "metadata": {},
   "outputs": [],
   "source": [
    "\n",
    "def print_dictionary(input_dictionary):\n",
    "    \"\"\"Print a dictionary in a formated way\"\"\"\n",
    "    for keys,values  in sorted(input_dictionary.items()):\n",
    "        print(\"\\t\" ,keys.title())\n",
    "        print(\"\\t\\t means -->\",values.title())\n",
    "    print(\"___________\")"
   ]
  },
  {
   "cell_type": "code",
   "execution_count": 10,
   "metadata": {},
   "outputs": [
    {
     "name": "stdout",
     "output_type": "stream",
     "text": [
      "\t Apple\n",
      "\t\t means --> A Fruit That Grows On Trees And Is Typically Red Or Green\n",
      "\t Car\n",
      "\t\t means --> A Road Vehicle With An Engine And Four Wheels\n",
      "\t Computer\n",
      "\t\t means --> An Electronic Device That Can Store, Retrieve, And Process Data\n",
      "___________\n",
      "\t Abstract\n",
      "\t\t means --> To Draw Away The Attention Of\n",
      "\t Accomplished\n",
      "\t\t means --> To Bring About By Result\n",
      "\t Fistful\n",
      "\t\t means --> A Considerable Number Of Amount\n",
      "___________\n"
     ]
    }
   ],
   "source": [
    "dictionary_1 = {\n",
    "    \"apple\": \"a fruit that grows on trees and is typically red or green\",\n",
    "    \"car\": \"a road vehicle with an engine and four wheels\",\n",
    "    \"computer\": \"an electronic device that can store, retrieve, and process data\"\n",
    "}\n",
    "\n",
    "dictionary_2 = {\n",
    "    \"abstract\":\"to draw away the attention of\",\n",
    "    \"accomplished\":\"to bring about by result\",\n",
    "    \"fistful\":\"a considerable number of amount\"\n",
    "}\n",
    "\n",
    "print_dictionary(dictionary_1)\n",
    "\n",
    "print_dictionary(dictionary_2)\n"
   ]
  },
  {
   "cell_type": "code",
   "execution_count": 12,
   "metadata": {},
   "outputs": [
    {
     "name": "stdout",
     "output_type": "stream",
     "text": [
      "Working...\n",
      "7\n"
     ]
    }
   ],
   "source": [
    "def add_two_numbers(number_1, number_2):\n",
    "    # _________\n",
    "    print(\"Working...\")\n",
    "    #__________\n",
    "    return number_1 + number_2\n",
    "\n",
    "sum_of_two = add_two_numbers(2,5)\n",
    "print(sum_of_two)"
   ]
  },
  {
   "cell_type": "code",
   "execution_count": 14,
   "metadata": {},
   "outputs": [
    {
     "name": "stdout",
     "output_type": "stream",
     "text": [
      "Working...\n",
      "14\n"
     ]
    }
   ],
   "source": [
    "print(add_two_numbers(8,6))"
   ]
  },
  {
   "cell_type": "code",
   "execution_count": 23,
   "metadata": {},
   "outputs": [
    {
     "name": "stdout",
     "output_type": "stream",
     "text": [
      "Wait..\n"
     ]
    }
   ],
   "source": [
    "def print_waiting():\n",
    "    \"\"\"Just print wait..\"\"\"\n",
    "    print(\"Wait..\")\n",
    "    return 2 + 2\n",
    "\n",
    "\n",
    "a = print_waiting()"
   ]
  },
  {
   "cell_type": "code",
   "execution_count": null,
   "metadata": {},
   "outputs": [],
   "source": []
  }
 ],
 "metadata": {
  "kernelspec": {
   "display_name": "testpy",
   "language": "python",
   "name": "python3"
  },
  "language_info": {
   "codemirror_mode": {
    "name": "ipython",
    "version": 3
   },
   "file_extension": ".py",
   "mimetype": "text/x-python",
   "name": "python",
   "nbconvert_exporter": "python",
   "pygments_lexer": "ipython3",
   "version": "3.10.8"
  },
  "orig_nbformat": 4
 },
 "nbformat": 4,
 "nbformat_minor": 2
}

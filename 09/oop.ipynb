{
 "cells": [
  {
   "cell_type": "code",
   "execution_count": 21,
   "metadata": {},
   "outputs": [],
   "source": [
    "class Car:\n",
    "    \"\"\"A simple rep. a car\"\"\"\n",
    "\n",
    "    def __init__(self, make: str, model: str, year: int = 2000):\n",
    "        # attributes\n",
    "        self.make_1 = make\n",
    "        self.model_1 = model\n",
    "        self.year_1 = year\n",
    "        self.remainig_fuel = 0\n",
    "        self.mileage_km = 30\n",
    "\n",
    "    def get_description(self):\n",
    "        dsc = f\"{self.year_1} {self.make_1} {self.model_1}\"\n",
    "        return dsc\n",
    "\n",
    "    def refill(self, litters):\n",
    "        self.remainig_fuel += litters\n",
    "\n",
    "        print(f\"{self.remainig_fuel} litter is in the tank!\")\n",
    "\n",
    "    def remaining_kms(self):\n",
    "        return 100 * self.remainig_fuel / self.mileage_km"
   ]
  },
  {
   "cell_type": "code",
   "execution_count": 22,
   "metadata": {},
   "outputs": [],
   "source": [
    "car_1 = Car(\"Audi\", \"A4\")"
   ]
  },
  {
   "cell_type": "code",
   "execution_count": 13,
   "metadata": {},
   "outputs": [
    {
     "name": "stdout",
     "output_type": "stream",
     "text": [
      "2000\n"
     ]
    }
   ],
   "source": [
    "print(car_1.year_1)"
   ]
  },
  {
   "cell_type": "code",
   "execution_count": 15,
   "metadata": {},
   "outputs": [
    {
     "data": {
      "text/plain": [
       "'2018 Audi A4'"
      ]
     },
     "execution_count": 15,
     "metadata": {},
     "output_type": "execute_result"
    }
   ],
   "source": [
    "car_1.get_description()"
   ]
  },
  {
   "cell_type": "code",
   "execution_count": 24,
   "metadata": {},
   "outputs": [],
   "source": [
    "car_1.year_1 = 2018"
   ]
  },
  {
   "cell_type": "code",
   "execution_count": 25,
   "metadata": {},
   "outputs": [
    {
     "name": "stdout",
     "output_type": "stream",
     "text": [
      "60 litter is in the tank!\n"
     ]
    }
   ],
   "source": [
    "car_1.refill(60)"
   ]
  },
  {
   "cell_type": "code",
   "execution_count": 26,
   "metadata": {},
   "outputs": [
    {
     "data": {
      "text/plain": [
       "200.0"
      ]
     },
     "execution_count": 26,
     "metadata": {},
     "output_type": "execute_result"
    }
   ],
   "source": [
    "car_1.remaining_kms()"
   ]
  },
  {
   "cell_type": "markdown",
   "metadata": {},
   "source": [
    "## Inheritance"
   ]
  },
  {
   "cell_type": "code",
   "execution_count": 42,
   "metadata": {},
   "outputs": [],
   "source": [
    "class Person:\n",
    "    def __init__(self, id_, birth_year, national_id):\n",
    "        self.id_ = id_\n",
    "        self.birth_year = birth_year\n",
    "        self.national_id = national_id\n",
    "\n",
    "    def say_hi(self):\n",
    "        print(\"Hi!\")\n",
    "\n",
    "\n",
    "class Student(Person):\n",
    "    pass\n",
    "\n",
    "class Teacher(Person):\n",
    "    pass\n",
    "\n",
    "class Manager(Person):\n",
    "    pass"
   ]
  },
  {
   "cell_type": "code",
   "execution_count": 43,
   "metadata": {},
   "outputs": [],
   "source": [
    "studnet1 = Student(25515516,2001,1884646)"
   ]
  },
  {
   "cell_type": "code",
   "execution_count": 34,
   "metadata": {},
   "outputs": [
    {
     "name": "stdout",
     "output_type": "stream",
     "text": [
      "Hi!\n"
     ]
    }
   ],
   "source": [
    "studnet1.say_hi()"
   ]
  },
  {
   "cell_type": "code",
   "execution_count": 45,
   "metadata": {},
   "outputs": [],
   "source": [
    "teacher1 = Teacher(56456,1908,2)"
   ]
  },
  {
   "cell_type": "code",
   "execution_count": 46,
   "metadata": {},
   "outputs": [
    {
     "name": "stdout",
     "output_type": "stream",
     "text": [
      "Hi!\n"
     ]
    }
   ],
   "source": [
    "teacher1.say_hi()"
   ]
  },
  {
   "cell_type": "code",
   "execution_count": null,
   "metadata": {},
   "outputs": [],
   "source": []
  }
 ],
 "metadata": {
  "kernelspec": {
   "display_name": "Python 3",
   "language": "python",
   "name": "python3"
  },
  "language_info": {
   "codemirror_mode": {
    "name": "ipython",
    "version": 3
   },
   "file_extension": ".py",
   "mimetype": "text/x-python",
   "name": "python",
   "nbconvert_exporter": "python",
   "pygments_lexer": "ipython3",
   "version": "3.11.0"
  },
  "orig_nbformat": 4
 },
 "nbformat": 4,
 "nbformat_minor": 2
}

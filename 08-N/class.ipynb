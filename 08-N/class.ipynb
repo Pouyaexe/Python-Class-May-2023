{
 "cells": [
  {
   "cell_type": "code",
   "execution_count": 1,
   "metadata": {},
   "outputs": [],
   "source": [
    "# Name, National ID, Major, Avg\n",
    "pouya_name = \"pouya\"\n",
    "pouya_ID = 1184566\n",
    "pouya_major = \"CS\"\n",
    "\n",
    "pouya = {\"name\": \"pouya\", \"ID\": 1545156}\n",
    "\n",
    "uni = []\n",
    "\n",
    "while True:\n",
    "    name = input(\"Name: \")\n",
    "    age = input(\"Age: \")\n",
    "    \n",
    "    temp_dict = {\"name\": name, \"age\":age}\n",
    "    uni.append(temp_dict)"
   ]
  },
  {
   "cell_type": "code",
   "execution_count": 44,
   "metadata": {},
   "outputs": [],
   "source": [
    "pouya = {\"name\": \"pouya\", \"ID\": 1545156}\n",
    "\n",
    "reza = {\"name\": \"reza\", \"ID\": 15554556}\n",
    "uni = []"
   ]
  },
  {
   "cell_type": "code",
   "execution_count": 45,
   "metadata": {},
   "outputs": [],
   "source": [
    "uni.append(pouya)\n",
    "uni.append(reza)"
   ]
  },
  {
   "cell_type": "code",
   "execution_count": 10,
   "metadata": {},
   "outputs": [
    {
     "data": {
      "text/plain": [
       "[{'name': 'pouya', 'ID': 1545156}, {'name': 'reza', 'ID': 15554556}]"
      ]
     },
     "execution_count": 10,
     "metadata": {},
     "output_type": "execute_result"
    }
   ],
   "source": [
    "uni"
   ]
  },
  {
   "cell_type": "code",
   "execution_count": null,
   "metadata": {},
   "outputs": [],
   "source": [
    "while True:\n",
    "    name = input(\"Name: \")\n",
    "    age = input(\"Age: \")\n",
    "    \n",
    "    temp_dict = {\"name\": name, \"age\":age}\n",
    "    uni.append(temp_dict)\n"
   ]
  },
  {
   "cell_type": "code",
   "execution_count": 14,
   "metadata": {},
   "outputs": [],
   "source": [
    "def input_names():\n",
    "    while True:\n",
    "        name = input(\"Name: \")\n",
    "        age = input(\"Age: \")\n",
    "        \n",
    "        temp_dict = {\"name\": name, \"age\":age}\n",
    "        uni.append(temp_dict) "
   ]
  },
  {
   "cell_type": "code",
   "execution_count": 3,
   "metadata": {},
   "outputs": [
    {
     "data": {
      "text/plain": [
       "18.0"
      ]
     },
     "execution_count": 3,
     "metadata": {},
     "output_type": "execute_result"
    }
   ],
   "source": [
    "grade_1 = 18\n",
    "grade_2 = 20\n",
    "grade_3 = 16\n",
    "\n",
    "_sum = grade_1 + grade_2 + grade_3 \n",
    "_sum / 3"
   ]
  },
  {
   "cell_type": "code",
   "execution_count": 6,
   "metadata": {},
   "outputs": [],
   "source": [
    "def get_avg(g1,g2,g3):\n",
    "    \"\"\" Calculating the avg of 3 numbers\"\"\"\n",
    "    sum_of_gs = g1 + g2 + g3\n",
    "    return sum_of_gs / 3"
   ]
  },
  {
   "cell_type": "code",
   "execution_count": 47,
   "metadata": {},
   "outputs": [
    {
     "data": {
      "text/plain": [
       "15.666666666666666"
      ]
     },
     "execution_count": 47,
     "metadata": {},
     "output_type": "execute_result"
    }
   ],
   "source": [
    "get_avg(16.75,20,10.25)"
   ]
  },
  {
   "cell_type": "code",
   "execution_count": 48,
   "metadata": {},
   "outputs": [
    {
     "name": "stdout",
     "output_type": "stream",
     "text": [
      "{'name': 'reza', 'ID': 15554556}\n"
     ]
    }
   ],
   "source": [
    "for student in uni:\n",
    "    if student[\"name\"] == \"reza\":\n",
    "        print(student)"
   ]
  },
  {
   "cell_type": "code",
   "execution_count": 7,
   "metadata": {},
   "outputs": [
    {
     "name": "stdout",
     "output_type": "stream",
     "text": [
      "My name is Jessie\n"
     ]
    }
   ],
   "source": [
    "def dogs_name(dog_name):\n",
    "    return 0\n",
    "    print(f\"My name is {dog_name}\")\n",
    "dogs_name(\"Jessie\")"
   ]
  },
  {
   "cell_type": "code",
   "execution_count": 16,
   "metadata": {},
   "outputs": [],
   "source": [
    "def dummy_func(name):\n",
    "    print(1 + 1)\n",
    "    return 0"
   ]
  },
  {
   "cell_type": "code",
   "execution_count": 18,
   "metadata": {},
   "outputs": [
    {
     "name": "stdout",
     "output_type": "stream",
     "text": [
      "2\n"
     ]
    }
   ],
   "source": [
    "returned_num = dummy_func(\"Ali\")"
   ]
  },
  {
   "cell_type": "code",
   "execution_count": 20,
   "metadata": {},
   "outputs": [
    {
     "name": "stdout",
     "output_type": "stream",
     "text": [
      "1\n"
     ]
    }
   ],
   "source": [
    "print(returned_num + 1)"
   ]
  },
  {
   "cell_type": "code",
   "execution_count": 51,
   "metadata": {},
   "outputs": [],
   "source": [
    "class Car:\n",
    "    \"\"\"A simple rep. a car\"\"\"\n",
    "\n",
    "    def __init__(self, make: str, model: str, year: int):\n",
    "        # attributes\n",
    "        self.make_1 = make\n",
    "        self.model_1 = model\n",
    "        self.year_1 = year\n",
    "\n",
    "        self.tank_capacity = 0\n",
    "\n",
    "    def get_description(self):\n",
    "        dsc = f\"{self.year_1} {self.make_1} {self.model_1}\"\n",
    "        return dsc\n",
    "\n",
    "    def refill(self, litters):\n",
    "        self.tank_capacity += litters\n",
    "        print(f\"{self.tank_capacity} litter is in the tank!\")"
   ]
  },
  {
   "cell_type": "code",
   "execution_count": 64,
   "metadata": {},
   "outputs": [],
   "source": [
    "my_new_car = Car(\"Audi\", \"S6\", 2018)"
   ]
  },
  {
   "cell_type": "code",
   "execution_count": 65,
   "metadata": {},
   "outputs": [
    {
     "name": "stdout",
     "output_type": "stream",
     "text": [
      "2018 Audi S6\n"
     ]
    }
   ],
   "source": [
    "print(my_new_car.get_description())"
   ]
  },
  {
   "cell_type": "code",
   "execution_count": 66,
   "metadata": {},
   "outputs": [
    {
     "name": "stdout",
     "output_type": "stream",
     "text": [
      "20 litter is in the tank!\n"
     ]
    }
   ],
   "source": [
    "my_new_car.refill(20)"
   ]
  },
  {
   "cell_type": "code",
   "execution_count": 49,
   "metadata": {},
   "outputs": [],
   "source": [
    "my_other_car = Car(\"MB\", \"S550\", 2014)"
   ]
  },
  {
   "cell_type": "code",
   "execution_count": 50,
   "metadata": {},
   "outputs": [
    {
     "data": {
      "text/plain": [
       "'2014 MB S550'"
      ]
     },
     "execution_count": 50,
     "metadata": {},
     "output_type": "execute_result"
    }
   ],
   "source": [
    "my_other_car.get_description()"
   ]
  },
  {
   "cell_type": "code",
   "execution_count": 38,
   "metadata": {},
   "outputs": [
    {
     "data": {
      "text/plain": [
       "False"
      ]
     },
     "execution_count": 38,
     "metadata": {},
     "output_type": "execute_result"
    }
   ],
   "source": [
    "my_new_car.is_full"
   ]
  },
  {
   "cell_type": "code",
   "execution_count": 33,
   "metadata": {},
   "outputs": [
    {
     "data": {
      "text/plain": [
       "'MB'"
      ]
     },
     "execution_count": 33,
     "metadata": {},
     "output_type": "execute_result"
    }
   ],
   "source": [
    "my_other_car.make_1"
   ]
  },
  {
   "cell_type": "code",
   "execution_count": 27,
   "metadata": {},
   "outputs": [],
   "source": [
    "my_new_car.year_1 = 2017"
   ]
  },
  {
   "cell_type": "code",
   "execution_count": null,
   "metadata": {},
   "outputs": [],
   "source": [
    "class Car:\n",
    "    \"\"\"A simple rep. a car\"\"\"\n",
    "\n",
    "    def __init__(self, make: str, model: str, year: int):\n",
    "        # attributes\n",
    "        self.make_1 = make\n",
    "        self.model_1 = model\n",
    "        self.year_1 = year\n",
    "    \n",
    "    "
   ]
  }
 ],
 "metadata": {
  "kernelspec": {
   "display_name": "Python 3",
   "language": "python",
   "name": "python3"
  },
  "language_info": {
   "codemirror_mode": {
    "name": "ipython",
    "version": 3
   },
   "file_extension": ".py",
   "mimetype": "text/x-python",
   "name": "python",
   "nbconvert_exporter": "python",
   "pygments_lexer": "ipython3",
   "version": "3.11.0"
  },
  "orig_nbformat": 4
 },
 "nbformat": 4,
 "nbformat_minor": 2
}

{
 "cells": [
  {
   "attachments": {},
   "cell_type": "markdown",
   "metadata": {},
   "source": [
    "Write a Python class called Person with attributes name and age. The class should have a method called greet that prints a greeting message that includes the person's name.\n",
    "\n",
    "Example input/output:\n",
    "```\n",
    "person = Person('Alice', 28)\n",
    "person.greet()\n",
    ">>> Hello, my name is Alice!\n",
    "```"
   ]
  },
  {
   "cell_type": "code",
   "execution_count": 3,
   "metadata": {},
   "outputs": [
    {
     "name": "stdout",
     "output_type": "stream",
     "text": [
      "Hello Wolrd!\n",
      "Hey there!\n"
     ]
    }
   ],
   "source": [
    "print(\"Hello Wolrd!\")\n",
    "print(\"Hey there!\")\n",
    "    "
   ]
  },
  {
   "attachments": {},
   "cell_type": "markdown",
   "metadata": {},
   "source": [
    "Write a Python class called Rectangle with attributes width and height. The class should have methods that calculate the area and perimeter of the rectangle. Additionally, implement a method that returns True if the rectangle is a square (i.e. width and height are equal), and False otherwise.\n",
    "\n",
    "Example input/output:\n",
    "```\n",
    "rectangle = Rectangle(5, 7)\n",
    "print(rectangle.area())\n",
    ">>> 35\n",
    "\n",
    "print(rectangle.perimeter())\n",
    ">>> 24\n",
    "\n",
    "print(rectangle.is_square())\n",
    ">>> False\n",
    "\n",
    "square = Rectangle(6, 6)\n",
    "print(square.is_square())\n",
    ">>> True\n",
    "```"
   ]
  },
  {
   "cell_type": "code",
   "execution_count": null,
   "metadata": {},
   "outputs": [],
   "source": []
  },
  {
   "attachments": {},
   "cell_type": "markdown",
   "metadata": {},
   "source": [
    "Write a Python class called BankAccount with the following attributes and methods:\n",
    "\n",
    "**Attributes**:  \n",
    "*balance*: a float representing the current balance of the account  \n",
    "*account_number*: an integer representing the account number  \n",
    "*interest_rate*: a float representing the annual interest rate for the account  \n",
    "\n",
    "**Methods**:  \n",
    "*deposit(amount)*: add the given amount to the account balance  \n",
    "*withdraw(amount)*: subtract the given amount from the account balance (if the balance is insufficient, display an error message)  \n",
    "*add_interest()*: add interest to the account balance based on the interest rate  \n",
    "*display()*: display the current balance and account number  \n",
    "\n",
    "**Example input/output**\n",
    "```\n",
    "account1 = BankAccount(1000, 1234, 0.05)\n",
    "account1.display()\n",
    ">>> Account number: 1234\n",
    ">>> Current balance: $1000.00\n",
    "\n",
    "account1.deposit(500)\n",
    "account1.display()\n",
    ">>> Account number: 1234\n",
    ">>> Current balance: $1500.00\n",
    "\n",
    "account1.withdraw(2000)\n",
    ">>> Error: insufficient funds\n",
    "\n",
    "account1.withdraw(500)\n",
    "account1.display()\n",
    ">>> Account number: 1234\n",
    ">>> Current balance:  $1000.00\n",
    "\n",
    "account1.add_interest()\n",
    "account1.display()\n",
    ">>> Account number: 1234\n",
    ">>> Current balance: $1050.00\n",
    "```"
   ]
  },
  {
   "cell_type": "code",
   "execution_count": null,
   "metadata": {},
   "outputs": [],
   "source": []
  }
 ],
 "metadata": {
  "kernelspec": {
   "display_name": "testpy",
   "language": "python",
   "name": "python3"
  },
  "language_info": {
   "codemirror_mode": {
    "name": "ipython",
    "version": 3
   },
   "file_extension": ".py",
   "mimetype": "text/x-python",
   "name": "python",
   "nbconvert_exporter": "python",
   "pygments_lexer": "ipython3",
   "version": "3.11.0"
  },
  "orig_nbformat": 4
 },
 "nbformat": 4,
 "nbformat_minor": 2
}

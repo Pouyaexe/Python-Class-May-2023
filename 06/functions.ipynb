{
 "cells": [
  {
   "cell_type": "code",
   "execution_count": 5,
   "metadata": {},
   "outputs": [
    {
     "name": "stdout",
     "output_type": "stream",
     "text": [
      "\n",
      " I have a cat.\n",
      "my cat's name is Hazelnut.\n",
      "\n",
      " I have a dog.\n",
      "my dog's name is Jerry.\n"
     ]
    }
   ],
   "source": [
    "pet_name = \"Hazelnut\"\n",
    "pet_type = \"cat\"\n",
    "\n",
    "print(f\"\\n I have a {pet_type}.\")\n",
    "print(f\"my {pet_type}'s name is {pet_name.title()}.\")\n",
    "\n",
    "pet_name = \"jerry\"\n",
    "pet_type = \"dog\"\n",
    "\n",
    "print(f\"\\n I have a {pet_type}.\")\n",
    "print(f\"my {pet_type}'s name is {pet_name.title()}.\")\n"
   ]
  },
  {
   "cell_type": "code",
   "execution_count": 50,
   "metadata": {},
   "outputs": [
    {
     "name": "stdout",
     "output_type": "stream",
     "text": [
      "\n",
      "I have a hamster.\n",
      "my hamster's name is Harry.\n",
      "\n",
      "I have a dog.\n",
      "my dog's name is Willie.\n"
     ]
    }
   ],
   "source": [
    "def describe_pet(type_, name):\n",
    "    print(f\"\\nI have a {type_}.\")\n",
    "    print(f\"my {type_}'s name is {name.title()}.\")\n",
    "\n",
    "\n",
    "describe_pet('hamster', 'harry')\n",
    "describe_pet('dog', 'willie')\n"
   ]
  },
  {
   "cell_type": "code",
   "execution_count": 11,
   "metadata": {},
   "outputs": [
    {
     "name": "stdout",
     "output_type": "stream",
     "text": [
      "Calculating...\n",
      "Multiplying 4 and 8\n",
      "32\n"
     ]
    }
   ],
   "source": [
    "def do_multipication(a, b):\n",
    "    print(\"Calculating...\")\n",
    "    print(f\"Multiplying {a} and {b}\")\n",
    "    return a * b\n",
    "\n",
    "#.....\n",
    "\n",
    "a, b = 4,8\n",
    "\n",
    "c = do_multipication(a, b) \n",
    "\n",
    "print(c)\n",
    "\n",
    "#......\n",
    "    "
   ]
  },
  {
   "cell_type": "code",
   "execution_count": 15,
   "metadata": {},
   "outputs": [
    {
     "name": "stdout",
     "output_type": "stream",
     "text": [
      "\n",
      "I have a dog.\n",
      "my dog's name is Jimmy.\n",
      "\n",
      "I have a Dog.\n",
      "my Dog's name is Jimmy.\n"
     ]
    }
   ],
   "source": [
    "describe_pet(\"dog\", \"Jimmy\")\n",
    "describe_pet(name=\"Jimmy\", type_=\"Dog\")"
   ]
  },
  {
   "cell_type": "code",
   "execution_count": 27,
   "metadata": {},
   "outputs": [
    {
     "ename": "TypeError",
     "evalue": "describe_pet() missing 1 required positional argument: 'type_'",
     "output_type": "error",
     "traceback": [
      "\u001b[1;31m---------------------------------------------------------------------------\u001b[0m",
      "\u001b[1;31mTypeError\u001b[0m                                 Traceback (most recent call last)",
      "\u001b[1;32mc:\\Users\\pouya\\Projects\\Python-Class-May-2023\\06\\functions.ipynb Cell 5\u001b[0m in \u001b[0;36m1\n\u001b[1;32m----> <a href='vscode-notebook-cell:/c%3A/Users/pouya/Projects/Python-Class-May-2023/06/functions.ipynb#W4sZmlsZQ%3D%3D?line=0'>1</a>\u001b[0m describe_pet(name\u001b[39m=\u001b[39;49m\u001b[39m\"\u001b[39;49m\u001b[39mJimmy\u001b[39;49m\u001b[39m\"\u001b[39;49m)\n",
      "\u001b[1;31mTypeError\u001b[0m: describe_pet() missing 1 required positional argument: 'type_'"
     ]
    }
   ],
   "source": [
    "describe_pet(name=\"Jimmy\")"
   ]
  },
  {
   "cell_type": "code",
   "execution_count": 33,
   "metadata": {},
   "outputs": [],
   "source": [
    "def describe_pet(type_=\"dog\", name=\"willie\"):\n",
    "    print(f\"\\nI have a {type_}.\")\n",
    "    print(f\"my {type_}'s name is {name.title()}.\")"
   ]
  },
  {
   "cell_type": "code",
   "execution_count": 34,
   "metadata": {},
   "outputs": [
    {
     "name": "stdout",
     "output_type": "stream",
     "text": [
      "\n",
      "I have a jimmmy.\n",
      "my jimmmy's name is Willie.\n"
     ]
    }
   ],
   "source": [
    "describe_pet(type_=\"jimmmy\")"
   ]
  },
  {
   "cell_type": "code",
   "execution_count": 60,
   "metadata": {},
   "outputs": [
    {
     "name": "stdout",
     "output_type": "stream",
     "text": [
      "{'first': 'Ali', 'last': 'wang'} {'first': 'James', 'last': 'Hen'}\n"
     ]
    }
   ],
   "source": [
    "def build_person(first_name, last_name):\n",
    "    \"\"\"Return a dictionary of information about a person.\"\"\"\n",
    "    first_name = first_name.title()\n",
    "    person = {\"first\": first_name, \"last\": last_name}\n",
    "    return person\n",
    "\n",
    "first_name=\"ali\"\n",
    "p1 = build_person(first_name, \"wang\")\n",
    "p2 = build_person(\"James\", \"Hen\")\n",
    "print(p1, p2)"
   ]
  },
  {
   "cell_type": "code",
   "execution_count": 61,
   "metadata": {},
   "outputs": [
    {
     "name": "stdout",
     "output_type": "stream",
     "text": [
      "ali\n"
     ]
    }
   ],
   "source": [
    "print(first_name)"
   ]
  },
  {
   "cell_type": "code",
   "execution_count": 57,
   "metadata": {},
   "outputs": [
    {
     "name": "stdout",
     "output_type": "stream",
     "text": [
      "hello, Hannah\n",
      "hello, Ty\n",
      "hello, Ali2000\n",
      "hello, Ali\n",
      "hello, Mammad\n",
      "hello, Pouya\n"
     ]
    }
   ],
   "source": [
    "def greet_users(names_):\n",
    "    \"\"\"Print a simple greeting to each user in the list\"\"\"\n",
    "    names = names_.copy()\n",
    "    for name in names:\n",
    "        print(f\"hello, {name.title()}\")\n",
    "    names.pop()\n",
    "\n",
    "\n",
    "usernames = [\"hannah\", \"ty\", \"ali2000\"]\n",
    "usernames_2 = [\"Ali\", \"mammad\", \"pouya\"]\n",
    "greet_users(usernames)\n",
    "greet_users(usernames_2)"
   ]
  },
  {
   "cell_type": "code",
   "execution_count": 58,
   "metadata": {},
   "outputs": [
    {
     "name": "stdout",
     "output_type": "stream",
     "text": [
      "['hannah', 'ty', 'ali2000'] ['Ali', 'mammad', 'pouya']\n"
     ]
    }
   ],
   "source": [
    "print(usernames, usernames_2)"
   ]
  },
  {
   "cell_type": "code",
   "execution_count": 62,
   "metadata": {},
   "outputs": [
    {
     "ename": "TypeError",
     "evalue": "'int' object is not callable",
     "output_type": "error",
     "traceback": [
      "\u001b[1;31m---------------------------------------------------------------------------\u001b[0m",
      "\u001b[1;31mTypeError\u001b[0m                                 Traceback (most recent call last)",
      "\u001b[1;32mc:\\Users\\pouya\\Projects\\Python-Class-May-2023\\06\\functions.ipynb Cell 12\u001b[0m in \u001b[0;36m2\n\u001b[0;32m      <a href='vscode-notebook-cell:/c%3A/Users/pouya/Projects/Python-Class-May-2023/06/functions.ipynb#X14sZmlsZQ%3D%3D?line=0'>1</a>\u001b[0m \u001b[39mimport\u001b[39;00m \u001b[39mtime\u001b[39;00m \n\u001b[1;32m----> <a href='vscode-notebook-cell:/c%3A/Users/pouya/Projects/Python-Class-May-2023/06/functions.ipynb#X14sZmlsZQ%3D%3D?line=1'>2</a>\u001b[0m time\u001b[39m.\u001b[39;49mtimezone()\n",
      "\u001b[1;31mTypeError\u001b[0m: 'int' object is not callable"
     ]
    }
   ],
   "source": []
  }
 ],
 "metadata": {
  "kernelspec": {
   "display_name": "testpy",
   "language": "python",
   "name": "python3"
  },
  "language_info": {
   "codemirror_mode": {
    "name": "ipython",
    "version": 3
   },
   "file_extension": ".py",
   "mimetype": "text/x-python",
   "name": "python",
   "nbconvert_exporter": "python",
   "pygments_lexer": "ipython3",
   "version": "3.10.8"
  },
  "orig_nbformat": 4
 },
 "nbformat": 4,
 "nbformat_minor": 2
}
